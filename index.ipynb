{
 "cells": [
  {
   "cell_type": "markdown",
   "id": "e1a43f69-e740-470c-b447-174d2abd1eb8",
   "metadata": {},
   "source": [
    "hw1 practice"
   ]
  },
  {
   "cell_type": "markdown",
   "id": "d2863321-2c02-423f-a0f0-e1f29c3e3439",
   "metadata": {},
   "source": [
    "Step 1"
   ]
  },
  {
   "cell_type": "code",
   "execution_count": 10,
   "id": "44a0dc8e-f9a4-42e6-8e42-62675c3338fe",
   "metadata": {},
   "outputs": [],
   "source": [
    "x=10\n",
    "y=100\n",
    "z=x+y"
   ]
  },
  {
   "cell_type": "code",
   "execution_count": 11,
   "id": "44a97aa6-c54c-4494-95b3-d5c554ba9c89",
   "metadata": {},
   "outputs": [
    {
     "data": {
      "text/plain": [
       "110"
      ]
     },
     "execution_count": 11,
     "metadata": {},
     "output_type": "execute_result"
    }
   ],
   "source": [
    "z"
   ]
  },
  {
   "cell_type": "markdown",
   "id": "8d5d5c04-e68f-4b7f-b95c-3f1dfd449fe3",
   "metadata": {},
   "source": [
    "Step 2"
   ]
  },
  {
   "cell_type": "code",
   "execution_count": null,
   "id": "c7a43f49-3212-4a40-a9c0-e8c58febe032",
   "metadata": {},
   "outputs": [],
   "source": []
  }
 ],
 "metadata": {
  "kernelspec": {
   "display_name": "Python [conda env:base] *",
   "language": "python",
   "name": "conda-base-py"
  },
  "language_info": {
   "codemirror_mode": {
    "name": "ipython",
    "version": 3
   },
   "file_extension": ".py",
   "mimetype": "text/x-python",
   "name": "python",
   "nbconvert_exporter": "python",
   "pygments_lexer": "ipython3",
   "version": "3.12.7"
  }
 },
 "nbformat": 4,
 "nbformat_minor": 5
}
